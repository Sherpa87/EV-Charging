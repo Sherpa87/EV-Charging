{
 "cells": [
  {
   "cell_type": "code",
   "execution_count": 1,
   "id": "5d8a0fef-9423-42ce-a85d-89371eabd6e8",
   "metadata": {},
   "outputs": [],
   "source": [
    "import os\n",
    "os.chdir('/Users/shreyas/Documents/ClearWaterResearch/GreenTech/EV/Data/EV-WATTS/')"
   ]
  },
  {
   "cell_type": "code",
   "execution_count": 2,
   "id": "b9bcbcca-6608-43dc-b77a-53c404f35c75",
   "metadata": {},
   "outputs": [],
   "source": [
    "import pandas as pd\n",
    "import numpy as np\n",
    "from matplotlib import pyplot as plt"
   ]
  },
  {
   "cell_type": "code",
   "execution_count": 3,
   "id": "25e04d35-b72b-4074-9ba8-b15bc0a05bc8",
   "metadata": {
    "scrolled": true
   },
   "outputs": [],
   "source": [
    "sessions=pd.read_csv('./data/evwatts.public.session.csv')"
   ]
  },
  {
   "cell_type": "code",
   "execution_count": 4,
   "id": "0f954a87-0c51-4cf3-b3ce-3fbbea4c580f",
   "metadata": {},
   "outputs": [
    {
     "name": "stdout",
     "output_type": "stream",
     "text": [
      "session dataframe shape: (13937235, 11)\n",
      "chargers dataframe shape: (36926, 8)\n",
      "connectors dataframe shape: (50103, 5)\n"
     ]
    }
   ],
   "source": [
    "chargers=pd.read_csv('./data/evwatts.public.evse.csv')\n",
    "connectors=pd.read_csv('./data/evwatts.public.connector.csv')\n",
    "print(f'session dataframe shape: {sessions.shape}')\n",
    "print(f'chargers dataframe shape: {chargers.shape}')\n",
    "print(f'connectors dataframe shape: {connectors.shape}')"
   ]
  },
  {
   "cell_type": "code",
   "execution_count": 10,
   "id": "f3f46b11-2156-42bc-88fd-c68e25832a1d",
   "metadata": {},
   "outputs": [
    {
     "name": "stdout",
     "output_type": "stream",
     "text": [
      "1285 days, 0:00:00\n"
     ]
    }
   ],
   "source": [
    "# Calculate the time range of session data in a single line\n",
    "time_range = pd.to_datetime(sessions['start_datetime']).max().date() - pd.to_datetime(sessions['start_datetime']).min().date()\n",
    "print(time_range)"
   ]
  },
  {
   "cell_type": "code",
   "execution_count": 6,
   "id": "4d003096-fb78-4ed5-b7d1-5c9df3541f2f",
   "metadata": {},
   "outputs": [
    {
     "name": "stdout",
     "output_type": "stream",
     "text": [
      "Date range: 2019-06-25 14:32:34 - 2022-12-31 23:58:58\n",
      "Time range of session data: 3.5 years\n",
      "Number of sessions: 13,937,235\n",
      "Number of chargers: 38,458\n",
      "Number of connectors: 52,662\n",
      "Total duration (hours): 101,351,651\n",
      "Total charging duration (hours): 25,836,176\n",
      "Total energy delivered (kWH): 236,458,759\n"
     ]
    }
   ],
   "source": [
    "print(f'Date range: {sessions.start_datetime.min()} - {sessions.start_datetime.max()}')\n",
    "print(f'Time range of session data: {round(time_range.days/365.25,1)} years')\n",
    "print(f'Number of sessions: {format(sessions.session_id.nunique(),',')}')\n",
    "print(f'Number of chargers: {format(sessions.evse_id.nunique(),',')}')\n",
    "print(f'Number of connectors: {format(sessions.connector_id.nunique(),',')}')\n",
    "print(f'Total duration (hours): {format(round(sessions.total_duration.sum()),',')}')\n",
    "print(f'Total charging duration (hours): {format(round(sessions.charge_duration.sum()),',')}')\n",
    "print(f'Total energy delivered (kWH): {format(round(sessions.energy_kwh.sum()),',')}')"
   ]
  },
  {
   "cell_type": "code",
   "execution_count": 7,
   "id": "1550da94-de30-4e5d-bb65-701658bb85d3",
   "metadata": {},
   "outputs": [
    {
     "data": {
      "text/plain": [
       "(13491254, 21)"
      ]
     },
     "execution_count": 7,
     "metadata": {},
     "output_type": "execute_result"
    }
   ],
   "source": [
    "#Merging dataframes into one with session_id as the primary key and evse_id and connector_id as a secondary key\n",
    "merged_df = pd.merge(sessions, chargers, on='evse_id', how='inner')\n",
    "merged_df = pd.merge(merged_df, connectors, on=['evse_id','connector_id'], how='left')\n",
    "merged_df.shape"
   ]
  },
  {
   "cell_type": "code",
   "execution_count": 11,
   "id": "86e020cd-3c27-4163-b873-251a2bc70818",
   "metadata": {},
   "outputs": [
    {
     "name": "stdout",
     "output_type": "stream",
     "text": [
      "Date range: 2019-06-25 14:32:34 - 2022-12-31 23:58:58\n",
      "Time range of session data: 3.5 years\n",
      "Number of sessions: 13,491,254\n",
      "Number of chargers: 36,894\n",
      "Number of connectors: 50,005\n",
      "Total duration (hours): 98,451,761\n",
      "Total charging duration (hours): 24,694,124\n",
      "Total energy delivered (kWH): 229,441,030\n"
     ]
    }
   ],
   "source": [
    "print(f'Date range: {merged_df.start_datetime.min()} - {merged_df.start_datetime.max()}')\n",
    "print(f'Time range of session data: {round(time_range.days/365.25,1)} years')\n",
    "print(f'Number of sessions: {format(merged_df.session_id.nunique(),',')}')\n",
    "print(f'Number of chargers: {format(merged_df.evse_id.nunique(),',')}')\n",
    "print(f'Number of connectors: {format(merged_df.connector_id.nunique(),',')}')\n",
    "print(f'Total duration (hours): {format(round(merged_df.total_duration.sum()),',')}')\n",
    "print(f'Total charging duration (hours): {format(round(merged_df.charge_duration.sum()),',')}')\n",
    "print(f'Total energy delivered (kWH): {format(round(merged_df.energy_kwh.sum()),',')}')"
   ]
  },
  {
   "cell_type": "code",
   "execution_count": 9,
   "id": "e94b7f46-f96f-4adf-b020-25dc750c4e8c",
   "metadata": {},
   "outputs": [],
   "source": [
    "#Write the merged dataframe to a merged_session_data.csv\n",
    "merged_df.to_csv('merged_session_data.csv')"
   ]
  }
 ],
 "metadata": {
  "kernelspec": {
   "display_name": "Python 3 (ipykernel)",
   "language": "python",
   "name": "python3"
  },
  "language_info": {
   "codemirror_mode": {
    "name": "ipython",
    "version": 3
   },
   "file_extension": ".py",
   "mimetype": "text/x-python",
   "name": "python",
   "nbconvert_exporter": "python",
   "pygments_lexer": "ipython3",
   "version": "3.12.2"
  }
 },
 "nbformat": 4,
 "nbformat_minor": 5
}
