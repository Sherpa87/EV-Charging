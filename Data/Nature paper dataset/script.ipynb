{
 "cells": [
  {
   "cell_type": "markdown",
   "id": "67c9b130-8108-40b2-b703-753cb84ccec3",
   "metadata": {},
   "source": [
    "### This script analysis the utilizaton of EV chargers based on the dataset from the paper titled \"# Use this to focus on a subset of charging company or Locations.\"\n",
    "#### The data set includes 72,856 sessions from 2,337 EV users and 2,119 chargers. This dataset is stored locally in **'ChargingRecords.csv'**\n",
    "\n",
    "#### See link for more details. https://figshare.com/articles/dataset/A_dataset_for_multi-faceted_analysis_of_electric_vehicle_charging_transactions/22495141/1\n"
   ]
  },
  {
   "cell_type": "code",
   "execution_count": 154,
   "id": "6c4cfc58-acb8-4294-9ee1-6415276c3157",
   "metadata": {},
   "outputs": [],
   "source": [
    "def plot_hist(dataframe, column_name, bins=10,title='title'):\n",
    "    \"\"\"\n",
    "    Plots a histogram of a specified column in a pandas DataFrame.\n",
    "\n",
    "    Parameters:\n",
    "        dataframe (pd.DataFrame): The pandas DataFrame containing the data.\n",
    "        column_name (str): The name of the column for which the histogram is to be plotted.\n",
    "        bins (int, optional): The number of bins in the histogram. Default is 10.\n",
    "\n",
    "    Returns:\n",
    "        None\n",
    "    \"\"\"\n",
    "    # Plot histogram of specified column\n",
    "    plt.hist(dataframe[column_name], bins=bins, color='skyblue', edgecolor='black')\n",
    "    plt.xlabel(column_name)\n",
    "    plt.ylabel('Frequency')\n",
    "    plt.title(title)\n",
    "    plt.grid(True)\n",
    "    plt.show()"
   ]
  },
  {
   "cell_type": "code",
   "execution_count": 155,
   "id": "ccc54a55-ce91-4611-9595-d204bb5b2695",
   "metadata": {},
   "outputs": [],
   "source": [
    "import pandas as pd\n",
    "import numpy as np\n",
    "import matplotlib\n",
    "import matplotlib.pyplot as plt"
   ]
  },
  {
   "cell_type": "code",
   "execution_count": 156,
   "id": "4e565fe9-8289-4417-b96b-6a8d003a8d12",
   "metadata": {},
   "outputs": [
    {
     "data": {
      "text/html": [
       "<div>\n",
       "<style scoped>\n",
       "    .dataframe tbody tr th:only-of-type {\n",
       "        vertical-align: middle;\n",
       "    }\n",
       "\n",
       "    .dataframe tbody tr th {\n",
       "        vertical-align: top;\n",
       "    }\n",
       "\n",
       "    .dataframe thead th {\n",
       "        text-align: right;\n",
       "    }\n",
       "</style>\n",
       "<table border=\"1\" class=\"dataframe\">\n",
       "  <thead>\n",
       "    <tr style=\"text-align: right;\">\n",
       "      <th></th>\n",
       "      <th>UserID</th>\n",
       "      <th>ChargerID</th>\n",
       "      <th>ChargerCompany</th>\n",
       "      <th>Location</th>\n",
       "      <th>ChargerType</th>\n",
       "      <th>StartDay</th>\n",
       "      <th>StartTime</th>\n",
       "      <th>EndDay</th>\n",
       "      <th>EndTime</th>\n",
       "      <th>StartDatetime</th>\n",
       "      <th>EndDatetime</th>\n",
       "      <th>Duration</th>\n",
       "      <th>Demand</th>\n",
       "    </tr>\n",
       "  </thead>\n",
       "  <tbody>\n",
       "    <tr>\n",
       "      <th>0</th>\n",
       "      <td>0</td>\n",
       "      <td>1</td>\n",
       "      <td>1</td>\n",
       "      <td>hotel</td>\n",
       "      <td>0</td>\n",
       "      <td>2022-09-15</td>\n",
       "      <td>20:54:02</td>\n",
       "      <td>2022-09-15</td>\n",
       "      <td>23:59:13</td>\n",
       "      <td>2022-09-15 20:54</td>\n",
       "      <td>2022-09-15 23:59</td>\n",
       "      <td>185</td>\n",
       "      <td>20.36</td>\n",
       "    </tr>\n",
       "    <tr>\n",
       "      <th>1</th>\n",
       "      <td>0</td>\n",
       "      <td>1</td>\n",
       "      <td>1</td>\n",
       "      <td>hotel</td>\n",
       "      <td>0</td>\n",
       "      <td>2022-09-14</td>\n",
       "      <td>20:01:05</td>\n",
       "      <td>2022-09-14</td>\n",
       "      <td>21:31:04</td>\n",
       "      <td>2022-09-14 20:01</td>\n",
       "      <td>2022-09-14 21:31</td>\n",
       "      <td>90</td>\n",
       "      <td>10.19</td>\n",
       "    </tr>\n",
       "    <tr>\n",
       "      <th>2</th>\n",
       "      <td>0</td>\n",
       "      <td>1</td>\n",
       "      <td>1</td>\n",
       "      <td>hotel</td>\n",
       "      <td>0</td>\n",
       "      <td>2022-09-14</td>\n",
       "      <td>18:54:30</td>\n",
       "      <td>2022-09-14</td>\n",
       "      <td>19:54:29</td>\n",
       "      <td>2022-09-14 18:54</td>\n",
       "      <td>2022-09-14 19:54</td>\n",
       "      <td>60</td>\n",
       "      <td>6.78</td>\n",
       "    </tr>\n",
       "    <tr>\n",
       "      <th>3</th>\n",
       "      <td>0</td>\n",
       "      <td>1</td>\n",
       "      <td>1</td>\n",
       "      <td>hotel</td>\n",
       "      <td>0</td>\n",
       "      <td>2022-09-29</td>\n",
       "      <td>18:32:51</td>\n",
       "      <td>2022-09-30</td>\n",
       "      <td>0:16:42</td>\n",
       "      <td>2022-09-29 18:32</td>\n",
       "      <td>2022-09-30 0:16</td>\n",
       "      <td>344</td>\n",
       "      <td>37.65</td>\n",
       "    </tr>\n",
       "    <tr>\n",
       "      <th>4</th>\n",
       "      <td>0</td>\n",
       "      <td>1</td>\n",
       "      <td>1</td>\n",
       "      <td>hotel</td>\n",
       "      <td>0</td>\n",
       "      <td>2022-09-25</td>\n",
       "      <td>19:30:15</td>\n",
       "      <td>2022-09-26</td>\n",
       "      <td>0:30:14</td>\n",
       "      <td>2022-09-25 19:30</td>\n",
       "      <td>2022-09-26 0:30</td>\n",
       "      <td>300</td>\n",
       "      <td>33.81</td>\n",
       "    </tr>\n",
       "  </tbody>\n",
       "</table>\n",
       "</div>"
      ],
      "text/plain": [
       "   UserID  ChargerID  ChargerCompany Location  ChargerType    StartDay  \\\n",
       "0       0          1               1    hotel            0  2022-09-15   \n",
       "1       0          1               1    hotel            0  2022-09-14   \n",
       "2       0          1               1    hotel            0  2022-09-14   \n",
       "3       0          1               1    hotel            0  2022-09-29   \n",
       "4       0          1               1    hotel            0  2022-09-25   \n",
       "\n",
       "  StartTime      EndDay   EndTime     StartDatetime       EndDatetime  \\\n",
       "0  20:54:02  2022-09-15  23:59:13  2022-09-15 20:54  2022-09-15 23:59   \n",
       "1  20:01:05  2022-09-14  21:31:04  2022-09-14 20:01  2022-09-14 21:31   \n",
       "2  18:54:30  2022-09-14  19:54:29  2022-09-14 18:54  2022-09-14 19:54   \n",
       "3  18:32:51  2022-09-30   0:16:42  2022-09-29 18:32   2022-09-30 0:16   \n",
       "4  19:30:15  2022-09-26   0:30:14  2022-09-25 19:30   2022-09-26 0:30   \n",
       "\n",
       "   Duration  Demand  \n",
       "0       185   20.36  \n",
       "1        90   10.19  \n",
       "2        60    6.78  \n",
       "3       344   37.65  \n",
       "4       300   33.81  "
      ]
     },
     "execution_count": 156,
     "metadata": {},
     "output_type": "execute_result"
    }
   ],
   "source": [
    "df=pd.read_csv('ChargingRecords.csv')\n",
    "df.head()"
   ]
  },
  {
   "cell_type": "code",
   "execution_count": 157,
   "id": "0abb0655-71fd-4108-8e5e-9e5ca02959a4",
   "metadata": {},
   "outputs": [
    {
     "data": {
      "text/plain": [
       "array([1, 0])"
      ]
     },
     "execution_count": 157,
     "metadata": {},
     "output_type": "execute_result"
    }
   ],
   "source": [
    "df.ChargerCompany.unique()"
   ]
  },
  {
   "cell_type": "markdown",
   "id": "7dbcccae-356f-416d-93bf-9d48278855a6",
   "metadata": {},
   "source": [
    "#### We will first focus on fast chargers  (ChargerType=1) and then repeat the same analysis for slow chargers (ChargerType=0). To that end, first filter the dataframe to fast chargers only. "
   ]
  },
  {
   "cell_type": "code",
   "execution_count": 158,
   "id": "304f1f21-ac82-4bdd-a757-aabc26f68366",
   "metadata": {},
   "outputs": [
    {
     "name": "stdout",
     "output_type": "stream",
     "text": [
      "Total number of sessions: 72856\n",
      "Total number of Fast Charger sessions : 14953\n"
     ]
    }
   ],
   "source": [
    "print(f'Total number of sessions: {len(df)}')\n",
    "df=df.loc[df['ChargerType']==1] # If you want slow chargers, set ChargerType==0. If you want all chargers, just comment out this line. \n",
    "print(f'Total number of Fast Charger sessions : {len(df)}')"
   ]
  },
  {
   "cell_type": "markdown",
   "id": "46212153-3f66-4b08-bc4f-9f802d458da0",
   "metadata": {},
   "source": [
    "#### Next we aggregate charging sessions data to a **daily level** and calculate daily utlization.\n",
    "#### Note that calculation of daily utilization is a **time based**. This means that we divide the charging Duration in minutes by total minutes in a day (1440 mins) to caluclate Utilization. \n",
    "\n",
    "#### <span style='color:red'> The challenge with Time based Utilization is that the session times can vary signifcantly by charger type (fast or slow) or location. This can bias the Utilization values. We need to figure out a way to normalize duration values to address this. This is not included in the script.</span> We will filter out slow chargers for now. \n"
   ]
  },
  {
   "cell_type": "code",
   "execution_count": 159,
   "id": "a6393241-8f6e-4205-af13-84fd1353528c",
   "metadata": {},
   "outputs": [
    {
     "data": {
      "text/plain": [
       "count    13282.000000\n",
       "mean         0.028142\n",
       "std          0.022698\n",
       "min         -0.020139\n",
       "25%          0.016667\n",
       "50%          0.027083\n",
       "75%          0.030556\n",
       "max          0.981250\n",
       "Name: Utilization, dtype: float64"
      ]
     },
     "execution_count": 159,
     "metadata": {},
     "output_type": "execute_result"
    }
   ],
   "source": [
    "x=df.groupby(['ChargerID', 'ChargerCompany', 'Location', 'ChargerType',\n",
    "       'StartDay']).Duration.sum()\n",
    "xframe=x.to_frame()\n",
    "xframe=xframe.reset_index()\n",
    "xframe['Duration'].astype('int')\n",
    "xframe['TotalDuration']=24*60\n",
    "xframe['Utilization']=xframe.Duration/xframe.TotalDuration\n",
    "xframe.Utilization.describe()"
   ]
  },
  {
   "cell_type": "markdown",
   "id": "dc33b285-36f2-49b2-8b06-90d0fec9f34d",
   "metadata": {},
   "source": [
    "#### Next we clean out any outlier values of Utlization i.e. Days where values are >1 or <0. For sense check, first print out the number of days that meet this criteria. "
   ]
  },
  {
   "cell_type": "code",
   "execution_count": 160,
   "id": "178ed158-a9cb-493e-8183-4ff28b80610d",
   "metadata": {},
   "outputs": [
    {
     "name": "stdout",
     "output_type": "stream",
     "text": [
      "Number of sessions before filtering outliers: 13282\n",
      "Number of entries with utilization >100%: 0\n",
      "Number of entries with utilization <0%: 15\n",
      "Number of sessions after filtering outliers: 13267\n"
     ]
    }
   ],
   "source": [
    "print(f'Number of sessions before filtering outliers: {len(xframe)}')\n",
    "print(f'Number of entries with utilization >100%: {len(xframe.loc[xframe['Utilization']>1])}')\n",
    "print(f'Number of entries with utilization <0%: {len(xframe.loc[xframe['Utilization']<0])}')\n",
    "\n",
    "xframe=xframe.loc[(xframe.Utilization>=0) & (xframe.Utilization<=1)]\n",
    "print(f'Number of sessions after filtering outliers: {len(xframe)}')"
   ]
  },
  {
   "cell_type": "code",
   "execution_count": 161,
   "id": "6367b975-e042-4d68-b19f-5db83908f0e9",
   "metadata": {},
   "outputs": [
    {
     "data": {
      "text/html": [
       "<div>\n",
       "<style scoped>\n",
       "    .dataframe tbody tr th:only-of-type {\n",
       "        vertical-align: middle;\n",
       "    }\n",
       "\n",
       "    .dataframe tbody tr th {\n",
       "        vertical-align: top;\n",
       "    }\n",
       "\n",
       "    .dataframe thead th {\n",
       "        text-align: right;\n",
       "    }\n",
       "</style>\n",
       "<table border=\"1\" class=\"dataframe\">\n",
       "  <thead>\n",
       "    <tr style=\"text-align: right;\">\n",
       "      <th></th>\n",
       "      <th>ChargerID</th>\n",
       "      <th>ChargerCompany</th>\n",
       "      <th>Location</th>\n",
       "      <th>ChargerType</th>\n",
       "      <th>StartDay</th>\n",
       "      <th>Duration</th>\n",
       "      <th>TotalDuration</th>\n",
       "      <th>Utilization</th>\n",
       "    </tr>\n",
       "  </thead>\n",
       "  <tbody>\n",
       "    <tr>\n",
       "      <th>0</th>\n",
       "      <td>361</td>\n",
       "      <td>0</td>\n",
       "      <td>public parking lot</td>\n",
       "      <td>1</td>\n",
       "      <td>2021-10-08</td>\n",
       "      <td>41</td>\n",
       "      <td>1440</td>\n",
       "      <td>0.028472</td>\n",
       "    </tr>\n",
       "    <tr>\n",
       "      <th>1</th>\n",
       "      <td>361</td>\n",
       "      <td>0</td>\n",
       "      <td>public parking lot</td>\n",
       "      <td>1</td>\n",
       "      <td>2021-11-06</td>\n",
       "      <td>40</td>\n",
       "      <td>1440</td>\n",
       "      <td>0.027778</td>\n",
       "    </tr>\n",
       "    <tr>\n",
       "      <th>2</th>\n",
       "      <td>361</td>\n",
       "      <td>0</td>\n",
       "      <td>public parking lot</td>\n",
       "      <td>1</td>\n",
       "      <td>2021-11-09</td>\n",
       "      <td>40</td>\n",
       "      <td>1440</td>\n",
       "      <td>0.027778</td>\n",
       "    </tr>\n",
       "    <tr>\n",
       "      <th>3</th>\n",
       "      <td>361</td>\n",
       "      <td>0</td>\n",
       "      <td>public parking lot</td>\n",
       "      <td>1</td>\n",
       "      <td>2022-01-19</td>\n",
       "      <td>8</td>\n",
       "      <td>1440</td>\n",
       "      <td>0.005556</td>\n",
       "    </tr>\n",
       "    <tr>\n",
       "      <th>4</th>\n",
       "      <td>361</td>\n",
       "      <td>0</td>\n",
       "      <td>public parking lot</td>\n",
       "      <td>1</td>\n",
       "      <td>2022-02-13</td>\n",
       "      <td>40</td>\n",
       "      <td>1440</td>\n",
       "      <td>0.027778</td>\n",
       "    </tr>\n",
       "  </tbody>\n",
       "</table>\n",
       "</div>"
      ],
      "text/plain": [
       "   ChargerID  ChargerCompany            Location  ChargerType    StartDay  \\\n",
       "0        361               0  public parking lot            1  2021-10-08   \n",
       "1        361               0  public parking lot            1  2021-11-06   \n",
       "2        361               0  public parking lot            1  2021-11-09   \n",
       "3        361               0  public parking lot            1  2022-01-19   \n",
       "4        361               0  public parking lot            1  2022-02-13   \n",
       "\n",
       "   Duration  TotalDuration  Utilization  \n",
       "0        41           1440     0.028472  \n",
       "1        40           1440     0.027778  \n",
       "2        40           1440     0.027778  \n",
       "3         8           1440     0.005556  \n",
       "4        40           1440     0.027778  "
      ]
     },
     "execution_count": 161,
     "metadata": {},
     "output_type": "execute_result"
    }
   ],
   "source": [
    "#print a snapshot of the dataframe\n",
    "xframe.head()"
   ]
  },
  {
   "cell_type": "markdown",
   "id": "83287046-86d7-430f-94f4-d963bbb753e7",
   "metadata": {},
   "source": [
    "#### Now we plot a histogram of EV charger Utlization across all locations and Charging Companies. "
   ]
  },
  {
   "cell_type": "code",
   "execution_count": 162,
   "id": "bc80f656-0482-4607-b108-d79d6819d68e",
   "metadata": {},
   "outputs": [
    {
     "data": {
      "image/png": "[encoded data removed]",
      "text/plain": [
       "<Figure size 640x480 with 1 Axes>"
      ]
     },
     "metadata": {},
     "output_type": "display_data"
    }
   ],
   "source": [
    "plot_hist(xframe,'Utilization',bins=30,title='Utilization of EV chargers in 2021-22')"
   ]
  },
  {
   "cell_type": "markdown",
   "id": "5d7873d9-4b38-40f4-b47c-91ca5f160aca",
   "metadata": {},
   "source": [
    "#### Next we want to analyze charger Utilization by Location and Charging Company"
   ]
  },
  {
   "cell_type": "code",
   "execution_count": 163,
   "id": "b12c7c1a-4835-4d57-b960-2ac06d2e67f6",
   "metadata": {},
   "outputs": [
    {
     "data": {
      "text/plain": [
       "Index(['Location', 'ChargerCompany', 'mean', 'max', 'min'], dtype='object')"
      ]
     },
     "execution_count": 163,
     "metadata": {},
     "output_type": "execute_result"
    }
   ],
   "source": [
    "#Create a new data frame and group by Location and Charging Company\n",
    "result = xframe.groupby(['Location','ChargerCompany'])['Utilization'].agg(['mean', 'max', 'min'])\n",
    "#type(result)\n",
    "#results=result.to_frame()\n",
    "result=result.reset_index()\n",
    "result.columns"
   ]
  },
  {
   "cell_type": "code",
   "execution_count": 164,
   "id": "1e6a7993-7e17-43f1-ab37-5a9a8912c8b0",
   "metadata": {},
   "outputs": [
    {
     "name": "stdout",
     "output_type": "stream",
     "text": [
      "Number of unique charging companies: 1\n",
      "Number of unique Location (types): 13\n"
     ]
    },
    {
     "data": {
      "image/png": "[encoded data removed]",
      "text/plain": [
       "<Figure size 1000x600 with 1 Axes>"
      ]
     },
     "metadata": {},
     "output_type": "display_data"
    }
   ],
   "source": [
    "print(f'Number of unique charging companies: {result.ChargerCompany.nunique()}')\n",
    "print(f'Number of unique Location (types): {result.Location.nunique()}')\n",
    "\n",
    "#filtered_result = result[result['ChargerCompany'] == 1] \n",
    "# Use the above to focus on a subset of charging company or Locations. Or you can just set filtered_result=result to use all.\n",
    "filtered_result=result\n",
    "\n",
    "# Group by Location and extract mean, max, and min values\n",
    "grouped_result = filtered_result.groupby('Location').agg({'mean': 'mean', 'max': 'mean', 'min': 'mean'}).reset_index()\n",
    "\n",
    "# Plot scatter plot\n",
    "plt.figure(figsize=(10, 6))\n",
    "plt.scatter(grouped_result['mean'], grouped_result['Location'], label='Mean', color='blue')\n",
    "plt.scatter(grouped_result['max'], grouped_result['Location'], label='Max', color='red')\n",
    "plt.scatter(grouped_result['min'], grouped_result['Location'], label='Min', color='green')\n",
    "\n",
    "# Calculate the average of the mean values across locations\n",
    "avg_mean = filtered_result['mean'].mean()\n",
    "\n",
    "# Draw a vertical dotted line at the average of the mean values across locations\n",
    "plt.axvline(x=avg_mean, linestyle='--', color='blue', label=f'Avg Mean: {avg_mean:.2f}')\n",
    "\n",
    "plt.xlabel('Utilization')\n",
    "plt.ylabel('Location')\n",
    "plt.title('Mean, max, and min Utilization by Location')\n",
    "plt.legend()\n",
    "plt.grid(True)\n",
    "plt.show()"
   ]
  },
  {
   "cell_type": "markdown",
   "id": "6b320539-dc54-47ef-8a8a-6512ff6e6d1c",
   "metadata": {},
   "source": [
    "#### "
   ]
  }
 ],
 "metadata": {
  "kernelspec": {
   "display_name": "Python 3 (ipykernel)",
   "language": "python",
   "name": "python3"
  },
  "language_info": {
   "codemirror_mode": {
    "name": "ipython",
    "version": 3
   },
   "file_extension": ".py",
   "mimetype": "text/x-python",
   "name": "python",
   "nbconvert_exporter": "python",
   "pygments_lexer": "ipython3",
   "version": "3.12.2"
  }
 },
 "nbformat": 4,
 "nbformat_minor": 5
}
